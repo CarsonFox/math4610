{
 "cells": [
  {
   "cell_type": "markdown",
   "id": "a324d955-fbc3-4ac0-a711-466c7c032d36",
   "metadata": {},
   "source": [
    "# Tasksheet 4\n",
    "\n",
    "Carson Fox (A02251670)"
   ]
  },
  {
   "cell_type": "markdown",
   "id": "9737a376-803e-4946-8675-171ee835d44e",
   "metadata": {},
   "source": [
    "## Task 1"
   ]
  },
  {
   "cell_type": "markdown",
   "id": "9064fc57-28f6-4869-841e-75cd8358dc3e",
   "metadata": {},
   "source": [
    "## Task 2"
   ]
  },
  {
   "cell_type": "code",
   "execution_count": null,
   "id": "60a67dcd-d776-4f08-9874-cd0bd7661d97",
   "metadata": {},
   "outputs": [],
   "source": [
    "function d2x(f, h)\n",
    "    \n",
    "end"
   ]
  }
 ],
 "metadata": {
  "kernelspec": {
   "display_name": "Julia 1.7.1",
   "language": "julia",
   "name": "julia-1.7"
  },
  "language_info": {
   "file_extension": ".jl",
   "mimetype": "application/julia",
   "name": "julia",
   "version": "1.7.3"
  }
 },
 "nbformat": 4,
 "nbformat_minor": 5
}
