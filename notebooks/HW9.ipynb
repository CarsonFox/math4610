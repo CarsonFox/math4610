{
 "cells": [
  {
   "cell_type": "code",
   "execution_count": 1,
   "id": "8764ed2b-838e-46d8-bac3-d94c111564f0",
   "metadata": {},
   "outputs": [
    {
     "data": {
      "text/plain": [
       "power_method (generic function with 2 methods)"
      ]
     },
     "execution_count": 1,
     "metadata": {},
     "output_type": "execute_result"
    }
   ],
   "source": [
    "function power_method(A, max_iterations=100)\n",
    "    b = rand(eltype(A), size(A)[1])\n",
    "    \n",
    "    for _ in 1:max_iterations\n",
    "        bk = A*b\n",
    "        # Normalize\n",
    "        b = bk ./ sum(bk)\n",
    "    end\n",
    "    \n",
    "    b, (A*b)[1] / b[1]\n",
    "end"
   ]
  },
  {
   "cell_type": "code",
   "execution_count": 3,
   "id": "01bbbe4a-8b4d-4c78-b9ab-f3efab99bdfb",
   "metadata": {},
   "outputs": [
    {
     "data": {
      "text/plain": [
       "3×3 Matrix{Int64}:\n",
       " 4   2  -1\n",
       " 9  -3   0\n",
       " 7   1   2"
      ]
     },
     "execution_count": 3,
     "metadata": {},
     "output_type": "execute_result"
    }
   ],
   "source": [
    "A = [4 2 -1;\n",
    "    9 -3 0;\n",
    "    7 1 2]"
   ]
  },
  {
   "cell_type": "code",
   "execution_count": null,
   "id": "49b99b56-c548-4d25-b3d8-f1993bdc816d",
   "metadata": {},
   "outputs": [],
   "source": [
    "function inverse_power_method(A, max_iterations=100)\n",
    "    \n",
    "end"
   ]
  }
 ],
 "metadata": {
  "kernelspec": {
   "display_name": "Julia 8 Threads 1.7.3",
   "language": "julia",
   "name": "julia-8-threads-1.7"
  },
  "language_info": {
   "file_extension": ".jl",
   "mimetype": "application/julia",
   "name": "julia",
   "version": "1.7.3"
  }
 },
 "nbformat": 4,
 "nbformat_minor": 5
}
