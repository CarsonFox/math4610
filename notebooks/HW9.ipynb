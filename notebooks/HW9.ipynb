{
 "cells": [
  {
   "cell_type": "code",
   "execution_count": 1,
   "id": "8764ed2b-838e-46d8-bac3-d94c111564f0",
   "metadata": {},
   "outputs": [
    {
     "data": {
      "text/plain": [
       "power_method (generic function with 2 methods)"
      ]
     },
     "execution_count": 1,
     "metadata": {},
     "output_type": "execute_result"
    }
   ],
   "source": [
    "function power_method(A, max_iterations=100)\n",
    "    b = rand(eltype(A), size(A)[1])\n",
    "    \n",
    "    for _ in 1:max_iterations\n",
    "        bk = A*b\n",
    "        # Normalize with 1-norm\n",
    "        b = bk ./ sum(bk)\n",
    "    end\n",
    "    \n",
    "    b, (A*b)[1] / b[1]\n",
    "end"
   ]
  },
  {
   "cell_type": "code",
   "execution_count": 2,
   "id": "01bbbe4a-8b4d-4c78-b9ab-f3efab99bdfb",
   "metadata": {},
   "outputs": [
    {
     "data": {
      "text/plain": [
       "3×3 Matrix{Int64}:\n",
       " 4   2  -1\n",
       " 9  -3   4\n",
       " 7   1   2"
      ]
     },
     "execution_count": 2,
     "metadata": {},
     "output_type": "execute_result"
    }
   ],
   "source": [
    "A = [4  2 -1;\n",
    "     9 -3  4;\n",
    "     7  1  2]"
   ]
  },
  {
   "cell_type": "code",
   "execution_count": 3,
   "id": "31f8d6c4-98a1-4754-94c8-c79b462444f9",
   "metadata": {},
   "outputs": [
    {
     "data": {
      "text/plain": [
       "3-element Vector{Float64}:\n",
       "  0.0\n",
       " -0.0\n",
       " -0.0"
      ]
     },
     "execution_count": 3,
     "metadata": {},
     "output_type": "execute_result"
    }
   ],
   "source": [
    "V, L = power_method(A)\n",
    "round.(A*V - L*V, digits=2)"
   ]
  },
  {
   "cell_type": "code",
   "execution_count": 10,
   "id": "b75bef3b-84aa-4d73-961c-8dc6a1496463",
   "metadata": {},
   "outputs": [
    {
     "data": {
      "text/plain": [
       "3×3 Matrix{Float64}:\n",
       " 1.0  -0.0  -0.0\n",
       " 0.0   1.0   0.0\n",
       " 0.0   0.0   1.0"
      ]
     },
     "execution_count": 10,
     "metadata": {},
     "output_type": "execute_result"
    }
   ],
   "source": [
    "Ainv = 1/10 * [ 2  1 -1;\n",
    "                -2 -3  5;\n",
    "                -6 -2  6]\n",
    "round.(A*Ainv, digits=2)"
   ]
  },
  {
   "cell_type": "code",
   "execution_count": 12,
   "id": "bc332770-ed72-4981-8963-1ddad0452113",
   "metadata": {},
   "outputs": [
    {
     "data": {
      "text/plain": [
       "3-element Vector{Float64}:\n",
       " 0.0\n",
       " 0.0\n",
       " 0.0"
      ]
     },
     "execution_count": 12,
     "metadata": {},
     "output_type": "execute_result"
    }
   ],
   "source": [
    "Vinv, Linv = power_method(Ainv)\n",
    "round.(Ainv*Vinv - Linv*Vinv, digits=2)"
   ]
  },
  {
   "cell_type": "code",
   "execution_count": 13,
   "id": "d350bce5-baf0-4705-9bdb-f5b1a71483f9",
   "metadata": {},
   "outputs": [
    {
     "data": {
      "text/plain": [
       "3-element Vector{Float64}:\n",
       " -0.0\n",
       "  0.0\n",
       " -0.0"
      ]
     },
     "execution_count": 13,
     "metadata": {},
     "output_type": "execute_result"
    }
   ],
   "source": [
    "l = 1 / Linv\n",
    "round.(A*Vinv - l*Vinv, digits=2)"
   ]
  },
  {
   "cell_type": "code",
   "execution_count": 14,
   "id": "9bcd21f6-affe-41a2-9535-e27eab16419f",
   "metadata": {},
   "outputs": [
    {
     "data": {
      "text/plain": [
       "matrix_inverse (generic function with 1 method)"
      ]
     },
     "execution_count": 14,
     "metadata": {},
     "output_type": "execute_result"
    }
   ],
   "source": [
    "function matrix_inverse(A)\n",
    "    inv(A)\n",
    "end"
   ]
  },
  {
   "cell_type": "code",
   "execution_count": 17,
   "id": "49b99b56-c548-4d25-b3d8-f1993bdc816d",
   "metadata": {},
   "outputs": [
    {
     "data": {
      "text/plain": [
       "inverse_power_method (generic function with 2 methods)"
      ]
     },
     "execution_count": 17,
     "metadata": {},
     "output_type": "execute_result"
    }
   ],
   "source": [
    "using LinearAlgebra\n",
    "\n",
    "function inverse_power_method(A, max_iterations=100)\n",
    "    Vinv, Linv = power_method(inv(A), max_iterations)\n",
    "    Vinv, 1/Linv\n",
    "end"
   ]
  },
  {
   "cell_type": "code",
   "execution_count": 18,
   "id": "f073a764-7c45-4b45-8ec4-2a41d730856d",
   "metadata": {},
   "outputs": [
    {
     "ename": "LoadError",
     "evalue": "DimensionMismatch(\"dimensions must match: a has dims (Base.OneTo(3), Base.OneTo(3)), must have singleton at dim 2\")",
     "output_type": "error",
     "traceback": [
      "DimensionMismatch(\"dimensions must match: a has dims (Base.OneTo(3), Base.OneTo(3)), must have singleton at dim 2\")",
      "",
      "Stacktrace:",
      " [1] promote_shape",
      "   @ .\\indices.jl:183 [inlined]",
      " [2] promote_shape(a::Matrix{Float64}, b::Vector{Float64})",
      "   @ Base .\\indices.jl:169",
      " [3] -(A::Matrix{Float64}, B::Vector{Float64})",
      "   @ Base .\\arraymath.jl:38",
      " [4] top-level scope",
      "   @ In[18]:2",
      " [5] eval",
      "   @ .\\boot.jl:373 [inlined]",
      " [6] include_string(mapexpr::typeof(REPL.softscope), mod::Module, code::String, filename::String)",
      "   @ Base .\\loading.jl:1196"
     ]
    }
   ],
   "source": [
    "l, v = inverse_power_method(A)\n",
    "round.(A*v - l*v, digits=2)"
   ]
  },
  {
   "cell_type": "code",
   "execution_count": null,
   "id": "e98d19dc-ef0a-4928-9a0d-de8cf53fee0b",
   "metadata": {},
   "outputs": [],
   "source": []
  }
 ],
 "metadata": {
  "kernelspec": {
   "display_name": "Julia 1.7.0",
   "language": "julia",
   "name": "julia-1.7"
  },
  "language_info": {
   "file_extension": ".jl",
   "mimetype": "application/julia",
   "name": "julia",
   "version": "1.7.0"
  }
 },
 "nbformat": 4,
 "nbformat_minor": 5
}
