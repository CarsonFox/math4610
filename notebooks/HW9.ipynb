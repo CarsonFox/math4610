{
 "cells": [
  {
   "cell_type": "markdown",
   "id": "d7651842-87de-43c7-bcd2-4361d2d35782",
   "metadata": {},
   "source": [
    "# Inverse Power Method"
   ]
  },
  {
   "cell_type": "markdown",
   "id": "347196bf-4cc8-47b0-b18f-384e95b0dbed",
   "metadata": {},
   "source": [
    "The Inverse Power method is an application of the regular power method for eigenvalue estimation. Recall our implementation of the regular power method:"
   ]
  },
  {
   "cell_type": "code",
   "execution_count": 1,
   "id": "8764ed2b-838e-46d8-bac3-d94c111564f0",
   "metadata": {},
   "outputs": [
    {
     "data": {
      "text/plain": [
       "power_method (generic function with 2 methods)"
      ]
     },
     "execution_count": 1,
     "metadata": {},
     "output_type": "execute_result"
    }
   ],
   "source": [
    "function power_method(A, max_iterations=100)\n",
    "    b = rand(eltype(A), size(A)[1])\n",
    "    \n",
    "    for _ in 1:max_iterations\n",
    "        bk = A*b\n",
    "        # Normalize with 1-norm\n",
    "        b = bk ./ sum(bk)\n",
    "    end\n",
    "    \n",
    "    b, (A*b)[1] / b[1]\n",
    "end"
   ]
  },
  {
   "cell_type": "code",
   "execution_count": 2,
   "id": "01bbbe4a-8b4d-4c78-b9ab-f3efab99bdfb",
   "metadata": {},
   "outputs": [
    {
     "data": {
      "text/plain": [
       "3×3 Matrix{Int64}:\n",
       " 4   2  -1\n",
       " 9  -3   4\n",
       " 7   1   2"
      ]
     },
     "execution_count": 2,
     "metadata": {},
     "output_type": "execute_result"
    }
   ],
   "source": [
    "A = [4  2 -1;\n",
    "     9 -3  4;\n",
    "     7  1  2]"
   ]
  },
  {
   "cell_type": "markdown",
   "id": "52e4decf-d95f-40a6-a6b0-df17bf65bea2",
   "metadata": {},
   "source": [
    "This method will converge to the eigenvalue with the largest magnitude. We can verify that our eigenvector/eigenvalue pair are correct, by checking that $Ax = \\lambda x$, or in other words $Ax - \\lambda x = 0$."
   ]
  },
  {
   "cell_type": "code",
   "execution_count": 3,
   "id": "31f8d6c4-98a1-4754-94c8-c79b462444f9",
   "metadata": {},
   "outputs": [
    {
     "data": {
      "text/plain": [
       "3-element Vector{Float64}:\n",
       " 0.0\n",
       " 0.0\n",
       " 0.0"
      ]
     },
     "execution_count": 3,
     "metadata": {},
     "output_type": "execute_result"
    }
   ],
   "source": [
    "V, L = power_method(A)\n",
    "round.(A*V - L*V, digits=2)"
   ]
  },
  {
   "cell_type": "markdown",
   "id": "35ad35b9-10ee-4d5e-a76b-6396a1a8cafe",
   "metadata": {},
   "source": [
    "The inverse power method takes advantage of the property that if $\\lambda$ is the largest eigenvalue of $A^{-1}$, then $\\frac{1}{\\lambda}$ is the smallest eigenvalue of $A$. Here we find the exact inverse of A, to illustrate this:"
   ]
  },
  {
   "cell_type": "code",
   "execution_count": 4,
   "id": "b75bef3b-84aa-4d73-961c-8dc6a1496463",
   "metadata": {},
   "outputs": [
    {
     "data": {
      "text/plain": [
       "3×3 Matrix{Float64}:\n",
       " 1.0  -0.0  -0.0\n",
       " 0.0   1.0   0.0\n",
       " 0.0   0.0   1.0"
      ]
     },
     "execution_count": 4,
     "metadata": {},
     "output_type": "execute_result"
    }
   ],
   "source": [
    "Ainv = 1/10 * [ 2  1 -1;\n",
    "                -2 -3  5;\n",
    "                -6 -2  6]\n",
    "round.(A*Ainv, digits=2)"
   ]
  },
  {
   "cell_type": "markdown",
   "id": "a10bdcb3-aa9d-457c-b509-3b014b8d4ac8",
   "metadata": {},
   "source": [
    "Then we can apply the power method to $A^{-1}$:"
   ]
  },
  {
   "cell_type": "code",
   "execution_count": 5,
   "id": "bc332770-ed72-4981-8963-1ddad0452113",
   "metadata": {},
   "outputs": [
    {
     "data": {
      "text/plain": [
       "3-element Vector{Float64}:\n",
       " 0.0\n",
       " 0.0\n",
       " 0.0"
      ]
     },
     "execution_count": 5,
     "metadata": {},
     "output_type": "execute_result"
    }
   ],
   "source": [
    "Vinv, Linv = power_method(Ainv)\n",
    "round.(Ainv*Vinv - Linv*Vinv, digits=2)"
   ]
  },
  {
   "cell_type": "markdown",
   "id": "03c356f8-d12f-4587-ae1d-967699896360",
   "metadata": {},
   "source": [
    "Finally, the inverse of the eigenvalue we found will be the smallest eigenvalue of the original matrix, A."
   ]
  },
  {
   "cell_type": "code",
   "execution_count": 6,
   "id": "d350bce5-baf0-4705-9bdb-f5b1a71483f9",
   "metadata": {},
   "outputs": [
    {
     "data": {
      "text/plain": [
       "3-element Vector{Float64}:\n",
       " -0.0\n",
       "  0.0\n",
       "  0.0"
      ]
     },
     "execution_count": 6,
     "metadata": {},
     "output_type": "execute_result"
    }
   ],
   "source": [
    "l = 1 / Linv\n",
    "round.(A*Vinv - l*Vinv, digits=2)"
   ]
  },
  {
   "cell_type": "markdown",
   "id": "9842e3a0-d6fd-450f-954f-40ee3e452e35",
   "metadata": {},
   "source": [
    "Thus, the inverse power method can be defined by applying the regular power method to the inverse of a matrix. The inverse can be calculated via Jacobi iteration of Gauss-Seidel."
   ]
  },
  {
   "cell_type": "code",
   "execution_count": 7,
   "id": "49b99b56-c548-4d25-b3d8-f1993bdc816d",
   "metadata": {},
   "outputs": [
    {
     "data": {
      "text/plain": [
       "inverse_power_method (generic function with 2 methods)"
      ]
     },
     "execution_count": 7,
     "metadata": {},
     "output_type": "execute_result"
    }
   ],
   "source": [
    "using LinearAlgebra\n",
    "\n",
    "function inverse_power_method(A, max_iterations=100)\n",
    "    Vinv, Linv = power_method(inv(A), max_iterations)\n",
    "    Vinv, 1/Linv\n",
    "end"
   ]
  },
  {
   "cell_type": "code",
   "execution_count": 8,
   "id": "f073a764-7c45-4b45-8ec4-2a41d730856d",
   "metadata": {},
   "outputs": [
    {
     "data": {
      "text/plain": [
       "3-element Vector{Float64}:\n",
       " 0.0\n",
       " 0.0\n",
       " 0.0"
      ]
     },
     "execution_count": 8,
     "metadata": {},
     "output_type": "execute_result"
    }
   ],
   "source": [
    "v, l = inverse_power_method(A)\n",
    "round.(A*v - l*v, digits=2)"
   ]
  }
 ],
 "metadata": {
  "kernelspec": {
   "display_name": "Julia 1.7.1",
   "language": "julia",
   "name": "julia-1.7"
  },
  "language_info": {
   "file_extension": ".jl",
   "mimetype": "application/julia",
   "name": "julia",
   "version": "1.8.0"
  }
 },
 "nbformat": 4,
 "nbformat_minor": 5
}
