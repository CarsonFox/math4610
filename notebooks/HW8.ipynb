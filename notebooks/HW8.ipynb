{
 "cells": [
  {
   "cell_type": "markdown",
   "id": "58cb2454-1034-4228-921f-154ef335ef42",
   "metadata": {},
   "source": [
    "# Kronecker Products of Matrices\n",
    "\n",
    "The Kronecker product of two matrices, $A \\in R^{mxn}$ and $B \\in R^{pxq}$ is an $mp$ x $nq$ block matrix, where $A \\bigotimes B = \\begin{bmatrix} A_{1, 1}\\cdot B & \\dots & A_{1, n}\\cdot B\\\\ \\vdots & \\ddots & \\vdots\\\\ A_{m, 1}\\cdot B & \\dots & A_{m, n}\\cdot B \\end{bmatrix}$. The following is a parallelized implementation of this operation."
   ]
  },
  {
   "cell_type": "code",
   "execution_count": 1,
   "id": "d32658fa-752f-411e-87b3-fad5efc21444",
   "metadata": {},
   "outputs": [
    {
     "data": {
      "text/plain": [
       "kronecker (generic function with 1 method)"
      ]
     },
     "execution_count": 1,
     "metadata": {},
     "output_type": "execute_result"
    }
   ],
   "source": [
    "function kronecker(A, B)\n",
    "    m, n = size(A)\n",
    "    p, q = size(B)\n",
    "    \n",
    "    result = similar(A, p*m, q*n)\n",
    "    \n",
    "    #Equivalent to omp parallel for\n",
    "    Threads.@threads for A_row in 1:m\n",
    "        for B_row in 1:p\n",
    "            for A_col in 1:n\n",
    "                for B_col in 1:q\n",
    "                    row = p*(A_row-1) + B_row\n",
    "                    col = q*(A_col-1) + B_col\n",
    "                    result[row, col] = A[A_row, A_col] * B[B_row, B_col]\n",
    "                end\n",
    "            end\n",
    "        end\n",
    "    end\n",
    "    \n",
    "    result\n",
    "end"
   ]
  },
  {
   "cell_type": "markdown",
   "id": "5e39c4ca-8662-41c3-bae4-c7fbc50993a3",
   "metadata": {},
   "source": [
    "Our environment has access to 8 threads:"
   ]
  },
  {
   "cell_type": "code",
   "execution_count": 2,
   "id": "69a403cc-134b-47fa-81af-fc760cf0a42f",
   "metadata": {},
   "outputs": [
    {
     "data": {
      "text/plain": [
       "8"
      ]
     },
     "execution_count": 2,
     "metadata": {},
     "output_type": "execute_result"
    }
   ],
   "source": [
    "Threads.nthreads()"
   ]
  },
  {
   "cell_type": "markdown",
   "id": "e45378eb-4a27-44bf-a7a0-68127fc5af91",
   "metadata": {},
   "source": [
    "Let's generate two random 100x100 matrices."
   ]
  },
  {
   "cell_type": "code",
   "execution_count": 3,
   "id": "8107e0d2-f260-4296-a6d9-aae8a322c24b",
   "metadata": {},
   "outputs": [
    {
     "data": {
      "text/plain": [
       "(100, 100)"
      ]
     },
     "execution_count": 3,
     "metadata": {},
     "output_type": "execute_result"
    }
   ],
   "source": [
    "A = rand(Int, (100, 100)) .% 1000\n",
    "B = rand(Int, (100, 100)) .% 1000\n",
    "size(A)"
   ]
  },
  {
   "cell_type": "markdown",
   "id": "315a2989-73ab-459d-b0f0-50f2fc8ecb68",
   "metadata": {},
   "source": [
    "As expected, the result is a $100^2$x$100^2$ matrix:"
   ]
  },
  {
   "cell_type": "code",
   "execution_count": 4,
   "id": "95cde06e-729e-46ec-88c4-8c6230e0c050",
   "metadata": {},
   "outputs": [
    {
     "data": {
      "text/plain": [
       "(10000, 10000)"
      ]
     },
     "execution_count": 4,
     "metadata": {},
     "output_type": "execute_result"
    }
   ],
   "source": [
    "size(kronecker(A, B))"
   ]
  },
  {
   "cell_type": "markdown",
   "id": "d629dbe8-2344-46c2-b4a8-2daffc9a15bb",
   "metadata": {},
   "source": [
    "# The Power Method"
   ]
  },
  {
   "cell_type": "markdown",
   "id": "cc3a1256-ae3e-47a4-b180-e1236f02a070",
   "metadata": {},
   "source": [
    "The power method is an iterative method for finding an eigenvalue and eigenvector of a matrix. By repeated application of the matrix on a vector, the vector will eventually converge to an eigenvector corresponding to the eigenvalue of largest magnitude. During this iteration the vector is repeatedly normalized with its 1-norm, which benefits numerical stability."
   ]
  },
  {
   "cell_type": "code",
   "execution_count": 5,
   "id": "c53ca7f3-5c2f-4111-bc4e-678ad2bc803b",
   "metadata": {},
   "outputs": [
    {
     "data": {
      "text/plain": [
       "power_method (generic function with 2 methods)"
      ]
     },
     "execution_count": 5,
     "metadata": {},
     "output_type": "execute_result"
    }
   ],
   "source": [
    "function power_method(A, max_iterations=100)\n",
    "    b = rand(eltype(A), size(A)[1])\n",
    "    \n",
    "    for _ in 1:max_iterations\n",
    "        bk = A*b\n",
    "        # Normalize\n",
    "        b = bk ./ sum(bk)\n",
    "    end\n",
    "    \n",
    "    b, (A*b)[1] / b[1]\n",
    "end"
   ]
  },
  {
   "cell_type": "markdown",
   "id": "2c28c80c-cfab-4015-84df-e1c784d38539",
   "metadata": {},
   "source": [
    "Here, we apply this algorithm to a matrix with two real eigenvalues, 8 and 1. 8 has the largest magnitude, so this method will converge to that eigenvalue. The corresponding eigenvector has magnitude 1, but any scalar multiple will also be a valid eigenvector."
   ]
  },
  {
   "cell_type": "code",
   "execution_count": 6,
   "id": "bb907c1d-997f-4d39-9656-5f8f9ad9ee7d",
   "metadata": {},
   "outputs": [
    {
     "data": {
      "text/plain": [
       "([0.28571428571428575, 0.7142857142857143], 7.999999999999998)"
      ]
     },
     "execution_count": 6,
     "metadata": {},
     "output_type": "execute_result"
    }
   ],
   "source": [
    "A = [3 2; 5 6]\n",
    "v, l = power_method(A)"
   ]
  },
  {
   "cell_type": "markdown",
   "id": "f5ac8ef2-3c35-482f-a117-61119e39ea06",
   "metadata": {},
   "source": [
    "We can test that these results do, in fact, satisfy the property of an eigenvector-eigenvalue pair:"
   ]
  },
  {
   "cell_type": "code",
   "execution_count": 7,
   "id": "3b773868-3cd8-431e-81b1-35ade4aac192",
   "metadata": {},
   "outputs": [
    {
     "data": {
      "text/plain": [
       "2-element Vector{Float64}:\n",
       " 2.2857142857142856\n",
       " 5.714285714285714"
      ]
     },
     "execution_count": 7,
     "metadata": {},
     "output_type": "execute_result"
    }
   ],
   "source": [
    "A*v"
   ]
  },
  {
   "cell_type": "code",
   "execution_count": 8,
   "id": "9586c02c-7870-485e-b2a0-aef92e5cc3e4",
   "metadata": {},
   "outputs": [
    {
     "data": {
      "text/plain": [
       "2-element Vector{Float64}:\n",
       " 2.2857142857142856\n",
       " 5.7142857142857135"
      ]
     },
     "execution_count": 8,
     "metadata": {},
     "output_type": "execute_result"
    }
   ],
   "source": [
    "l*v"
   ]
  },
  {
   "cell_type": "markdown",
   "id": "15ed198b-22a7-47ae-9912-a1f02b44e733",
   "metadata": {},
   "source": [
    "# Jacobi Iteration"
   ]
  },
  {
   "cell_type": "markdown",
   "id": "78ac038a-ee85-4616-95db-9bcb5fa07fac",
   "metadata": {},
   "source": [
    "Jacobi iteration is a method for solving linear systems $Ax = b$. It relies on the LDU decomposition, which we impliment to begin."
   ]
  },
  {
   "cell_type": "code",
   "execution_count": 9,
   "id": "7c509e0b-6499-4c72-89d3-3ecb37e8cd4c",
   "metadata": {},
   "outputs": [
    {
     "data": {
      "text/plain": [
       "LDU (generic function with 1 method)"
      ]
     },
     "execution_count": 9,
     "metadata": {},
     "output_type": "execute_result"
    }
   ],
   "source": [
    "function LDU(A)\n",
    "    L = zeros(eltype(A), size(A))\n",
    "    D = zeros(eltype(A), size(A))\n",
    "    U = zeros(eltype(A), size(A))\n",
    "    \n",
    "    n, m = size(A)\n",
    "    @assert n == m\n",
    "    \n",
    "    for row in 1:n\n",
    "        for col in 1:m\n",
    "            if row < col\n",
    "                U[row, col] = A[row, col]\n",
    "            elseif row > col\n",
    "                L[row, col] = A[row, col]\n",
    "            else\n",
    "                D[row, col] = A[row, col]\n",
    "            end\n",
    "        end\n",
    "    end\n",
    "    \n",
    "    L, D, U\n",
    "end"
   ]
  },
  {
   "cell_type": "markdown",
   "id": "145f9e5e-1066-4956-9cdd-bfa04ba65498",
   "metadata": {},
   "source": [
    "The LDU decomposition simply splits a matrix $A$ into its lower triangular portion $L$, diagonal portion $D$, and upper triangular portion $U$, such that $A = L + D + U$. Consider an arbitrary matrix A:"
   ]
  },
  {
   "cell_type": "code",
   "execution_count": 10,
   "id": "09e602b8-c3ec-4814-8751-552e26ddaa51",
   "metadata": {},
   "outputs": [
    {
     "data": {
      "text/plain": [
       "2×2 Matrix{Int64}:\n",
       " 3  2\n",
       " 5  6"
      ]
     },
     "execution_count": 10,
     "metadata": {},
     "output_type": "execute_result"
    }
   ],
   "source": [
    "L, D, U = LDU(A)\n",
    "A"
   ]
  },
  {
   "cell_type": "markdown",
   "id": "aaef9730-b098-450c-b86b-3fe412a64224",
   "metadata": {},
   "source": [
    "After the decomposition, L simply contains the elements below the diagonal:"
   ]
  },
  {
   "cell_type": "code",
   "execution_count": 11,
   "id": "8a81f834-e8ac-4ca5-abc6-92b18e581bbb",
   "metadata": {},
   "outputs": [
    {
     "data": {
      "text/plain": [
       "2×2 Matrix{Int64}:\n",
       " 0  0\n",
       " 5  0"
      ]
     },
     "execution_count": 11,
     "metadata": {},
     "output_type": "execute_result"
    }
   ],
   "source": [
    "L"
   ]
  },
  {
   "cell_type": "markdown",
   "id": "044c94e4-1062-4e34-93a6-7d492915fd24",
   "metadata": {},
   "source": [
    "U contains the elements above the diagonal:"
   ]
  },
  {
   "cell_type": "code",
   "execution_count": 12,
   "id": "ffc2039f-3e51-4981-8b9b-41eada80e1de",
   "metadata": {},
   "outputs": [
    {
     "data": {
      "text/plain": [
       "2×2 Matrix{Int64}:\n",
       " 0  2\n",
       " 0  0"
      ]
     },
     "execution_count": 12,
     "metadata": {},
     "output_type": "execute_result"
    }
   ],
   "source": [
    "U"
   ]
  },
  {
   "cell_type": "markdown",
   "id": "e187d60b-88c5-488c-afde-f57a3ae57f14",
   "metadata": {},
   "source": [
    "And D contains the diagonal entries:"
   ]
  },
  {
   "cell_type": "code",
   "execution_count": 13,
   "id": "c0b3dba9-8324-4c5f-8ddf-5d1e756e287a",
   "metadata": {},
   "outputs": [
    {
     "data": {
      "text/plain": [
       "2×2 Matrix{Int64}:\n",
       " 3  0\n",
       " 0  6"
      ]
     },
     "execution_count": 13,
     "metadata": {},
     "output_type": "execute_result"
    }
   ],
   "source": [
    "D"
   ]
  },
  {
   "cell_type": "markdown",
   "id": "28da0bd6-585b-4595-9510-b22c0c5e78ad",
   "metadata": {},
   "source": [
    "This decomposition is useful because it gives us access to a diagonal matrix. These are convenient for a number of applications, such as exponentiation. Here, we take advantage of how easy a diagonal matrix is to invert: we can simply invert the diagonal entries."
   ]
  },
  {
   "cell_type": "code",
   "execution_count": 14,
   "id": "7e625e26-c204-45bb-881e-96f2012aad7d",
   "metadata": {},
   "outputs": [
    {
     "data": {
      "text/plain": [
       "diag_inverse (generic function with 1 method)"
      ]
     },
     "execution_count": 14,
     "metadata": {},
     "output_type": "execute_result"
    }
   ],
   "source": [
    "function diag_inverse(D)\n",
    "    Dinv = zeros(typeof(1 / D[1, 1]), size(D))\n",
    "    n = size(D)[1]\n",
    "    \n",
    "    for i in 1:n\n",
    "        Dinv[i, i] = 1 / D[i, i]\n",
    "    end\n",
    "    \n",
    "    Dinv\n",
    "end"
   ]
  },
  {
   "cell_type": "code",
   "execution_count": 15,
   "id": "8e1a0513-ec5d-41f9-a8ae-e2db4a754542",
   "metadata": {},
   "outputs": [
    {
     "data": {
      "text/plain": [
       "2×2 Matrix{Float64}:\n",
       " 1.0  0.0\n",
       " 0.0  1.0"
      ]
     },
     "execution_count": 15,
     "metadata": {},
     "output_type": "execute_result"
    }
   ],
   "source": [
    "D * diag_inverse(D)"
   ]
  },
  {
   "cell_type": "markdown",
   "id": "11f9a875-927b-43a5-b250-89cd02539934",
   "metadata": {},
   "source": [
    "Jacobi iteration takes advantage of this decomposition. Its main iteration consists of repeatedly applying $D^{-1}(b - (L + U)x)$, to refine the guess $x$."
   ]
  },
  {
   "cell_type": "code",
   "execution_count": 16,
   "id": "1a5763dc-c220-4e44-b4df-7fed2a1638c6",
   "metadata": {},
   "outputs": [
    {
     "data": {
      "text/plain": [
       "jacobi (generic function with 2 methods)"
      ]
     },
     "execution_count": 16,
     "metadata": {},
     "output_type": "execute_result"
    }
   ],
   "source": [
    "function jacobi(A, b, max_iterations=100)\n",
    "    L, D, U = LDU(A)\n",
    "    Dinv = diag_inverse(D)\n",
    "    LU = L + U\n",
    "    \n",
    "    x = zeros(eltype(A), size(A)[1])\n",
    "    for _ in 1:max_iterations\n",
    "        x = Dinv*(b - LU*x)\n",
    "    end\n",
    "    \n",
    "    x\n",
    "end"
   ]
  }
 ],
 "metadata": {
  "kernelspec": {
   "display_name": "Julia 8 Threads 1.7.3",
   "language": "julia",
   "name": "julia-8-threads-1.7"
  },
  "language_info": {
   "file_extension": ".jl",
   "mimetype": "application/julia",
   "name": "julia",
   "version": "1.8.0"
  }
 },
 "nbformat": 4,
 "nbformat_minor": 5
}
