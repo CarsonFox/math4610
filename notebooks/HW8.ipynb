{
 "cells": [
  {
   "cell_type": "code",
   "execution_count": 101,
   "id": "d32658fa-752f-411e-87b3-fad5efc21444",
   "metadata": {},
   "outputs": [
    {
     "data": {
      "text/plain": [
       "kronecker (generic function with 1 method)"
      ]
     },
     "execution_count": 101,
     "metadata": {},
     "output_type": "execute_result"
    }
   ],
   "source": [
    "function kronecker(A, B)\n",
    "    m, n = size(A)\n",
    "    p, q = size(B)\n",
    "    \n",
    "    result = similar(A, p*m, q*n)\n",
    "    \n",
    "    Threads.@threads for A_row in 1:m\n",
    "        for B_row in 1:p\n",
    "            for A_col in 1:n\n",
    "                for B_col in 1:q\n",
    "                    row = p*(A_row-1) + B_row\n",
    "                    col = q*(A_col-1) + B_col\n",
    "                    result[row, col] = A[A_row, A_col] * B[B_row, B_col]\n",
    "                end\n",
    "            end\n",
    "        end\n",
    "    end\n",
    "    \n",
    "    result\n",
    "end"
   ]
  },
  {
   "cell_type": "code",
   "execution_count": 102,
   "id": "69a403cc-134b-47fa-81af-fc760cf0a42f",
   "metadata": {},
   "outputs": [
    {
     "data": {
      "text/plain": [
       "8"
      ]
     },
     "execution_count": 102,
     "metadata": {},
     "output_type": "execute_result"
    }
   ],
   "source": [
    "Threads.nthreads()"
   ]
  },
  {
   "cell_type": "code",
   "execution_count": 103,
   "id": "8107e0d2-f260-4296-a6d9-aae8a322c24b",
   "metadata": {},
   "outputs": [
    {
     "data": {
      "text/plain": [
       "(100, 100)"
      ]
     },
     "execution_count": 103,
     "metadata": {},
     "output_type": "execute_result"
    }
   ],
   "source": [
    "A = rand(Int, (100, 100)) .% 1000\n",
    "B = rand(Int, (100, 100)) .% 1000\n",
    "size(A)"
   ]
  },
  {
   "cell_type": "code",
   "execution_count": 104,
   "id": "4b1157f1-8525-40ce-91e9-e592beced5f8",
   "metadata": {},
   "outputs": [
    {
     "data": {
      "text/plain": [
       "(10000, 10000)"
      ]
     },
     "execution_count": 104,
     "metadata": {},
     "output_type": "execute_result"
    }
   ],
   "source": [
    "size(kronecker(A, B))"
   ]
  },
  {
   "cell_type": "code",
   "execution_count": 105,
   "id": "c53ca7f3-5c2f-4111-bc4e-678ad2bc803b",
   "metadata": {},
   "outputs": [
    {
     "data": {
      "text/plain": [
       "power_method (generic function with 2 methods)"
      ]
     },
     "execution_count": 105,
     "metadata": {},
     "output_type": "execute_result"
    }
   ],
   "source": [
    "function power_method(A, max_iterations=100)\n",
    "    b = rand(eltype(A), size(A)[1])\n",
    "    \n",
    "    for _ in 1:max_iterations\n",
    "        bk = A*b\n",
    "        # Normalize\n",
    "        b = bk ./ sum(bk)\n",
    "    end\n",
    "    \n",
    "    b, (A*b)[1] / b[1]\n",
    "end"
   ]
  },
  {
   "cell_type": "code",
   "execution_count": 115,
   "id": "bb907c1d-997f-4d39-9656-5f8f9ad9ee7d",
   "metadata": {},
   "outputs": [
    {
     "data": {
      "text/plain": [
       "([0.28571428571428575, 0.7142857142857143], 7.999999999999998)"
      ]
     },
     "execution_count": 115,
     "metadata": {},
     "output_type": "execute_result"
    }
   ],
   "source": [
    "A = [3 2; 5 6]\n",
    "v, l = power_method(A)"
   ]
  },
  {
   "cell_type": "code",
   "execution_count": 116,
   "id": "41a5370a-9533-4169-a590-46de00679838",
   "metadata": {},
   "outputs": [
    {
     "data": {
      "text/plain": [
       "2-element Vector{Float64}:\n",
       " 0.28571428571428575\n",
       " 0.7142857142857143"
      ]
     },
     "execution_count": 116,
     "metadata": {},
     "output_type": "execute_result"
    }
   ],
   "source": [
    "v"
   ]
  },
  {
   "cell_type": "code",
   "execution_count": 117,
   "id": "3b773868-3cd8-431e-81b1-35ade4aac192",
   "metadata": {},
   "outputs": [
    {
     "data": {
      "text/plain": [
       "2-element Vector{Float64}:\n",
       " 2.2857142857142856\n",
       " 5.714285714285714"
      ]
     },
     "execution_count": 117,
     "metadata": {},
     "output_type": "execute_result"
    }
   ],
   "source": [
    "A*v"
   ]
  },
  {
   "cell_type": "code",
   "execution_count": 118,
   "id": "9586c02c-7870-485e-b2a0-aef92e5cc3e4",
   "metadata": {},
   "outputs": [
    {
     "data": {
      "text/plain": [
       "2-element Vector{Float64}:\n",
       " 2.2857142857142856\n",
       " 5.7142857142857135"
      ]
     },
     "execution_count": 118,
     "metadata": {},
     "output_type": "execute_result"
    }
   ],
   "source": [
    "l*v"
   ]
  },
  {
   "cell_type": "code",
   "execution_count": 74,
   "id": "7c509e0b-6499-4c72-89d3-3ecb37e8cd4c",
   "metadata": {},
   "outputs": [
    {
     "data": {
      "text/plain": [
       "LDU (generic function with 1 method)"
      ]
     },
     "execution_count": 74,
     "metadata": {},
     "output_type": "execute_result"
    }
   ],
   "source": [
    "function LDU(A)\n",
    "    L = zeros(eltype(A), size(A))\n",
    "    D = zeros(eltype(A), size(A))\n",
    "    U = zeros(eltype(A), size(A))\n",
    "    \n",
    "    n, m = size(A)\n",
    "    @assert n == m\n",
    "    \n",
    "    for row in 1:n\n",
    "        for col in 1:m\n",
    "            if row < col\n",
    "                U[row, col] = A[row, col]\n",
    "            elseif row > col\n",
    "                L[row, col] = A[row, col]\n",
    "            else\n",
    "                D[row, col] = A[row, col]\n",
    "            end\n",
    "        end\n",
    "    end\n",
    "    \n",
    "    L, D, U\n",
    "end"
   ]
  },
  {
   "cell_type": "code",
   "execution_count": 75,
   "id": "09e602b8-c3ec-4814-8751-552e26ddaa51",
   "metadata": {},
   "outputs": [
    {
     "data": {
      "text/plain": [
       "2×2 Matrix{Int64}:\n",
       " 3  2\n",
       " 5  6"
      ]
     },
     "execution_count": 75,
     "metadata": {},
     "output_type": "execute_result"
    }
   ],
   "source": [
    "L, D, U = LDU(A)\n",
    "A"
   ]
  },
  {
   "cell_type": "code",
   "execution_count": 76,
   "id": "8a81f834-e8ac-4ca5-abc6-92b18e581bbb",
   "metadata": {},
   "outputs": [
    {
     "data": {
      "text/plain": [
       "2×2 Matrix{Int64}:\n",
       " 0  0\n",
       " 5  0"
      ]
     },
     "execution_count": 76,
     "metadata": {},
     "output_type": "execute_result"
    }
   ],
   "source": [
    "L"
   ]
  },
  {
   "cell_type": "code",
   "execution_count": 77,
   "id": "ffc2039f-3e51-4981-8b9b-41eada80e1de",
   "metadata": {},
   "outputs": [
    {
     "data": {
      "text/plain": [
       "2×2 Matrix{Int64}:\n",
       " 0  2\n",
       " 0  0"
      ]
     },
     "execution_count": 77,
     "metadata": {},
     "output_type": "execute_result"
    }
   ],
   "source": [
    "U"
   ]
  },
  {
   "cell_type": "code",
   "execution_count": 78,
   "id": "c0b3dba9-8324-4c5f-8ddf-5d1e756e287a",
   "metadata": {},
   "outputs": [
    {
     "data": {
      "text/plain": [
       "2×2 Matrix{Int64}:\n",
       " 3  0\n",
       " 0  6"
      ]
     },
     "execution_count": 78,
     "metadata": {},
     "output_type": "execute_result"
    }
   ],
   "source": [
    "D"
   ]
  },
  {
   "cell_type": "code",
   "execution_count": 79,
   "id": "7e625e26-c204-45bb-881e-96f2012aad7d",
   "metadata": {},
   "outputs": [
    {
     "data": {
      "text/plain": [
       "diag_inverse (generic function with 1 method)"
      ]
     },
     "execution_count": 79,
     "metadata": {},
     "output_type": "execute_result"
    }
   ],
   "source": [
    "function diag_inverse(D)\n",
    "    Dinv = zeros(typeof(1 / D[1, 1]), size(D))\n",
    "    n = size(D)[1]\n",
    "    \n",
    "    for i in 1:n\n",
    "        Dinv[i, i] = 1 / D[i, i]\n",
    "    end\n",
    "    \n",
    "    Dinv\n",
    "end"
   ]
  },
  {
   "cell_type": "code",
   "execution_count": 80,
   "id": "8e1a0513-ec5d-41f9-a8ae-e2db4a754542",
   "metadata": {},
   "outputs": [
    {
     "data": {
      "text/plain": [
       "2×2 Matrix{Float64}:\n",
       " 1.0  0.0\n",
       " 0.0  1.0"
      ]
     },
     "execution_count": 80,
     "metadata": {},
     "output_type": "execute_result"
    }
   ],
   "source": [
    "D * diag_inverse(D)"
   ]
  },
  {
   "cell_type": "code",
   "execution_count": 99,
   "id": "1a5763dc-c220-4e44-b4df-7fed2a1638c6",
   "metadata": {},
   "outputs": [
    {
     "data": {
      "text/plain": [
       "jacobi (generic function with 2 methods)"
      ]
     },
     "execution_count": 99,
     "metadata": {},
     "output_type": "execute_result"
    }
   ],
   "source": [
    "function jacobi(A, b, max_iterations=1000)\n",
    "    L, D, U = LDU(A)\n",
    "    Dinv = diag_inverse(D)\n",
    "    LU = L + U\n",
    "    \n",
    "    x = zeros(eltype(A), size(A)[1])\n",
    "    for _ in 1:max_iterations\n",
    "        x = Dinv*(b - LU*x)\n",
    "    end\n",
    "    \n",
    "    x\n",
    "end"
   ]
  },
  {
   "cell_type": "code",
   "execution_count": 100,
   "id": "c530e33a-5e8d-442c-a9a6-a8ef5c9c9cf8",
   "metadata": {},
   "outputs": [
    {
     "data": {
      "text/plain": [
       "2-element Vector{Float64}:\n",
       " 1.644636140577167e264\n",
       " 4.317169869015055e264"
      ]
     },
     "execution_count": 100,
     "metadata": {},
     "output_type": "execute_result"
    }
   ],
   "source": [
    "jacobi([1 2; -3 4], [5, 6], 3002)"
   ]
  },
  {
   "cell_type": "code",
   "execution_count": null,
   "id": "fdc93df2-e15b-4f0f-8cbc-1e4b2051665d",
   "metadata": {},
   "outputs": [],
   "source": []
  }
 ],
 "metadata": {
  "kernelspec": {
   "display_name": "Julia 8 Threads 1.7.3",
   "language": "julia",
   "name": "julia-8-threads-1.7"
  },
  "language_info": {
   "file_extension": ".jl",
   "mimetype": "application/julia",
   "name": "julia",
   "version": "1.7.3"
  }
 },
 "nbformat": 4,
 "nbformat_minor": 5
}
