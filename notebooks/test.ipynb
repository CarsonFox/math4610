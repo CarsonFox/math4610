{
 "cells": [
  {
   "cell_type": "code",
   "execution_count": 3,
   "id": "88a3dec0-ae54-4f20-8d9f-cd247455ff79",
   "metadata": {},
   "outputs": [],
   "source": [
    "import numpy as np"
   ]
  },
  {
   "cell_type": "code",
   "execution_count": 4,
   "id": "720d1acf-84bb-4c5d-bec3-c55ef4a8dff9",
   "metadata": {},
   "outputs": [],
   "source": [
    "def power_iteration(A, num_iterations: int):\n",
    "    # Ideally choose a random vector\n",
    "    # To decrease the chance that our vector\n",
    "    # Is orthogonal to the eigenvector\n",
    "    b_k = np.random.rand(A.shape[1])\n",
    "\n",
    "    for _ in range(num_iterations):\n",
    "        # calculate the matrix-by-vector product Ab\n",
    "        b_k1 = np.dot(A, b_k)\n",
    "\n",
    "        # calculate the norm\n",
    "        b_k1_norm = np.linalg.norm(b_k1)\n",
    "\n",
    "        # re normalize the vector\n",
    "        b_k = b_k1 / b_k1_norm\n",
    "\n",
    "    return b_k"
   ]
  },
  {
   "cell_type": "code",
   "execution_count": 6,
   "id": "3a424a30-c389-43fc-b8ab-ce74a0d13468",
   "metadata": {},
   "outputs": [
    {
     "data": {
      "text/plain": [
       "array([0.37139068, 0.92847669])"
      ]
     },
     "execution_count": 6,
     "metadata": {},
     "output_type": "execute_result"
    }
   ],
   "source": [
    "power_iteration(np.array([[3, 2],[5, 6]]), 1000)"
   ]
  },
  {
   "cell_type": "code",
   "execution_count": null,
   "id": "ba3a2be1-ff61-4b37-9a62-e2ba4e62bb2f",
   "metadata": {},
   "outputs": [],
   "source": []
  }
 ],
 "metadata": {
  "kernelspec": {
   "display_name": "Python 3 (ipykernel)",
   "language": "python",
   "name": "python3"
  },
  "language_info": {
   "codemirror_mode": {
    "name": "ipython",
    "version": 3
   },
   "file_extension": ".py",
   "mimetype": "text/x-python",
   "name": "python",
   "nbconvert_exporter": "python",
   "pygments_lexer": "ipython3",
   "version": "3.10.8"
  }
 },
 "nbformat": 4,
 "nbformat_minor": 5
}
