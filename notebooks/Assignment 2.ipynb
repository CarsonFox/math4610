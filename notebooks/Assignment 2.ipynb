{
 "cells": [
  {
   "cell_type": "code",
   "execution_count": 34,
   "id": "46af69e8-1bc7-45e7-b4d9-8bfdb7e990df",
   "metadata": {},
   "outputs": [
    {
     "data": {
      "text/plain": [
       "derivative (generic function with 2 methods)"
      ]
     },
     "execution_count": 34,
     "metadata": {},
     "output_type": "execute_result"
    }
   ],
   "source": [
    "function derivative(f, epsilon=1e-9)\n",
    "    x -> (f(x + epsilon) - f(x)) / epsilon\n",
    "end"
   ]
  },
  {
   "cell_type": "code",
   "execution_count": 35,
   "id": "6bd09d0f-b126-41f5-97fb-63899f8cd4ef",
   "metadata": {},
   "outputs": [
    {
     "data": {
      "text/plain": [
       "newton_raphson (generic function with 3 methods)"
      ]
     },
     "execution_count": 35,
     "metadata": {},
     "output_type": "execute_result"
    }
   ],
   "source": [
    "function newton_raphson(f, x0, max=1000, tol=1e-9)\n",
    "    guess = x0\n",
    "    df = derivative(f)\n",
    "    \n",
    "    for i in 1:max\n",
    "        error = f(guess)\n",
    "        if abs(error) < tol\n",
    "            return guess\n",
    "        end\n",
    "        \n",
    "        guess = guess - f(guess) / df(guess)\n",
    "    end\n",
    "    \n",
    "    return guess\n",
    "end"
   ]
  },
  {
   "cell_type": "code",
   "execution_count": 36,
   "id": "6d85d6ef-9265-40d6-9f5f-3ffd23672a84",
   "metadata": {},
   "outputs": [
    {
     "data": {
      "text/plain": [
       "secant (generic function with 3 methods)"
      ]
     },
     "execution_count": 36,
     "metadata": {},
     "output_type": "execute_result"
    }
   ],
   "source": [
    "function secant(f, x0, x1, max=1000, tol=1e-9)\n",
    "    zero = x0\n",
    "    \n",
    "    for _ in 1:max\n",
    "        fx0, fx1 = f(x0), f(x1)\n",
    "        zero = x1 - fx1 * (x1 - x0) / (fx1 - fx0)\n",
    "        \n",
    "        err = f(zero)\n",
    "        if abs(err) < tol\n",
    "            return zero\n",
    "        end\n",
    "        \n",
    "        x0 = x1\n",
    "        x1 = zero\n",
    "    end\n",
    "    \n",
    "    return zero\n",
    "end"
   ]
  },
  {
   "cell_type": "code",
   "execution_count": 37,
   "id": "7885fda5-ca75-4534-b474-901591d75f1a",
   "metadata": {},
   "outputs": [
    {
     "data": {
      "image/svg+xml": [
       "<?xml version=\"1.0\" encoding=\"utf-8\"?>\n",
       "<svg xmlns=\"http://www.w3.org/2000/svg\" xmlns:xlink=\"http://www.w3.org/1999/xlink\" width=\"600\" height=\"400\" viewBox=\"0 0 2400 1600\">\n",
       "<defs>\n",
       "  <clipPath id=\"clip070\">\n",
       "    <rect x=\"0\" y=\"0\" width=\"2400\" height=\"1600\"/>\n",
       "  </clipPath>\n",
       "</defs>\n",
       "<path clip-path=\"url(#clip070)\" d=\"\n",
       "M0 1600 L2400 1600 L2400 0 L0 0  Z\n",
       "  \" fill=\"#ffffff\" fill-rule=\"evenodd\" fill-opacity=\"1\"/>\n",
       "<defs>\n",
       "  <clipPath id=\"clip071\">\n",
       "    <rect x=\"480\" y=\"0\" width=\"1681\" height=\"1600\"/>\n",
       "  </clipPath>\n",
       "</defs>\n",
       "<path clip-path=\"url(#clip070)\" d=\"\n",
       "M178.867 1486.45 L2352.76 1486.45 L2352.76 47.2441 L178.867 47.2441  Z\n",
       "  \" fill=\"#ffffff\" fill-rule=\"evenodd\" fill-opacity=\"1\"/>\n",
       "<defs>\n",
       "  <clipPath id=\"clip072\">\n",
       "    <rect x=\"178\" y=\"47\" width=\"2175\" height=\"1440\"/>\n",
       "  </clipPath>\n",
       "</defs>\n",
       "<polyline clip-path=\"url(#clip072)\" style=\"stroke:#000000; stroke-linecap:butt; stroke-linejoin:round; stroke-width:2; stroke-opacity:0.1; fill:none\" points=\"\n",
       "  445.476,1486.45 445.476,47.2441 \n",
       "  \"/>\n",
       "<polyline clip-path=\"url(#clip072)\" style=\"stroke:#000000; stroke-linecap:butt; stroke-linejoin:round; stroke-width:2; stroke-opacity:0.1; fill:none\" points=\"\n",
       "  855.643,1486.45 855.643,47.2441 \n",
       "  \"/>\n",
       "<polyline clip-path=\"url(#clip072)\" style=\"stroke:#000000; stroke-linecap:butt; stroke-linejoin:round; stroke-width:2; stroke-opacity:0.1; fill:none\" points=\"\n",
       "  1265.81,1486.45 1265.81,47.2441 \n",
       "  \"/>\n",
       "<polyline clip-path=\"url(#clip072)\" style=\"stroke:#000000; stroke-linecap:butt; stroke-linejoin:round; stroke-width:2; stroke-opacity:0.1; fill:none\" points=\"\n",
       "  1675.98,1486.45 1675.98,47.2441 \n",
       "  \"/>\n",
       "<polyline clip-path=\"url(#clip072)\" style=\"stroke:#000000; stroke-linecap:butt; stroke-linejoin:round; stroke-width:2; stroke-opacity:0.1; fill:none\" points=\"\n",
       "  2086.15,1486.45 2086.15,47.2441 \n",
       "  \"/>\n",
       "<polyline clip-path=\"url(#clip070)\" style=\"stroke:#000000; stroke-linecap:butt; stroke-linejoin:round; stroke-width:4; stroke-opacity:1; fill:none\" points=\"\n",
       "  178.867,1486.45 2352.76,1486.45 \n",
       "  \"/>\n",
       "<polyline clip-path=\"url(#clip070)\" style=\"stroke:#000000; stroke-linecap:butt; stroke-linejoin:round; stroke-width:4; stroke-opacity:1; fill:none\" points=\"\n",
       "  445.476,1486.45 445.476,1467.55 \n",
       "  \"/>\n",
       "<polyline clip-path=\"url(#clip070)\" style=\"stroke:#000000; stroke-linecap:butt; stroke-linejoin:round; stroke-width:4; stroke-opacity:1; fill:none\" points=\"\n",
       "  855.643,1486.45 855.643,1467.55 \n",
       "  \"/>\n",
       "<polyline clip-path=\"url(#clip070)\" style=\"stroke:#000000; stroke-linecap:butt; stroke-linejoin:round; stroke-width:4; stroke-opacity:1; fill:none\" points=\"\n",
       "  1265.81,1486.45 1265.81,1467.55 \n",
       "  \"/>\n",
       "<polyline clip-path=\"url(#clip070)\" style=\"stroke:#000000; stroke-linecap:butt; stroke-linejoin:round; stroke-width:4; stroke-opacity:1; fill:none\" points=\"\n",
       "  1675.98,1486.45 1675.98,1467.55 \n",
       "  \"/>\n",
       "<polyline clip-path=\"url(#clip070)\" style=\"stroke:#000000; stroke-linecap:butt; stroke-linejoin:round; stroke-width:4; stroke-opacity:1; fill:none\" points=\"\n",
       "  2086.15,1486.45 2086.15,1467.55 \n",
       "  \"/>\n",
       "<path clip-path=\"url(#clip070)\" d=\"M391.761 1532.02 L421.436 1532.02 L421.436 1535.95 L391.761 1535.95 L391.761 1532.02 Z\" fill=\"#000000\" fill-rule=\"evenodd\" fill-opacity=\"1\" /><path clip-path=\"url(#clip070)\" d=\"M441.529 1517.37 Q437.918 1517.37 436.089 1520.93 Q434.284 1524.47 434.284 1531.6 Q434.284 1538.71 436.089 1542.27 Q437.918 1545.82 441.529 1545.82 Q445.163 1545.82 446.969 1542.27 Q448.797 1538.71 448.797 1531.6 Q448.797 1524.47 446.969 1520.93 Q445.163 1517.37 441.529 1517.37 M441.529 1513.66 Q447.339 1513.66 450.395 1518.27 Q453.473 1522.85 453.473 1531.6 Q453.473 1540.33 450.395 1544.94 Q447.339 1549.52 441.529 1549.52 Q435.719 1549.52 432.64 1544.94 Q429.585 1540.33 429.585 1531.6 Q429.585 1522.85 432.64 1518.27 Q435.719 1513.66 441.529 1513.66 Z\" fill=\"#000000\" fill-rule=\"evenodd\" fill-opacity=\"1\" /><path clip-path=\"url(#clip070)\" d=\"M461.691 1542.97 L466.575 1542.97 L466.575 1548.85 L461.691 1548.85 L461.691 1542.97 Z\" fill=\"#000000\" fill-rule=\"evenodd\" fill-opacity=\"1\" /><path clip-path=\"url(#clip070)\" d=\"M489.607 1518.36 L477.802 1536.81 L489.607 1536.81 L489.607 1518.36 M488.381 1514.29 L494.26 1514.29 L494.26 1536.81 L499.191 1536.81 L499.191 1540.7 L494.26 1540.7 L494.26 1548.85 L489.607 1548.85 L489.607 1540.7 L474.006 1540.7 L474.006 1536.19 L488.381 1514.29 Z\" fill=\"#000000\" fill-rule=\"evenodd\" fill-opacity=\"1\" /><path clip-path=\"url(#clip070)\" d=\"M802.97 1532.02 L832.646 1532.02 L832.646 1535.95 L802.97 1535.95 L802.97 1532.02 Z\" fill=\"#000000\" fill-rule=\"evenodd\" fill-opacity=\"1\" /><path clip-path=\"url(#clip070)\" d=\"M852.738 1517.37 Q849.127 1517.37 847.299 1520.93 Q845.493 1524.47 845.493 1531.6 Q845.493 1538.71 847.299 1542.27 Q849.127 1545.82 852.738 1545.82 Q856.373 1545.82 858.178 1542.27 Q860.007 1538.71 860.007 1531.6 Q860.007 1524.47 858.178 1520.93 Q856.373 1517.37 852.738 1517.37 M852.738 1513.66 Q858.549 1513.66 861.604 1518.27 Q864.683 1522.85 864.683 1531.6 Q864.683 1540.33 861.604 1544.94 Q858.549 1549.52 852.738 1549.52 Q846.928 1549.52 843.85 1544.94 Q840.794 1540.33 840.794 1531.6 Q840.794 1522.85 843.85 1518.27 Q846.928 1513.66 852.738 1513.66 Z\" fill=\"#000000\" fill-rule=\"evenodd\" fill-opacity=\"1\" /><path clip-path=\"url(#clip070)\" d=\"M872.9 1542.97 L877.785 1542.97 L877.785 1548.85 L872.9 1548.85 L872.9 1542.97 Z\" fill=\"#000000\" fill-rule=\"evenodd\" fill-opacity=\"1\" /><path clip-path=\"url(#clip070)\" d=\"M891.997 1544.91 L908.317 1544.91 L908.317 1548.85 L886.372 1548.85 L886.372 1544.91 Q889.035 1542.16 893.618 1537.53 Q898.224 1532.88 899.405 1531.53 Q901.65 1529.01 902.53 1527.27 Q903.433 1525.51 903.433 1523.82 Q903.433 1521.07 901.488 1519.33 Q899.567 1517.6 896.465 1517.6 Q894.266 1517.6 891.812 1518.36 Q889.382 1519.13 886.604 1520.68 L886.604 1515.95 Q889.428 1514.82 891.882 1514.24 Q894.335 1513.66 896.372 1513.66 Q901.743 1513.66 904.937 1516.35 Q908.132 1519.03 908.132 1523.52 Q908.132 1525.65 907.321 1527.57 Q906.534 1529.47 904.428 1532.07 Q903.849 1532.74 900.747 1535.95 Q897.646 1539.15 891.997 1544.91 Z\" fill=\"#000000\" fill-rule=\"evenodd\" fill-opacity=\"1\" /><path clip-path=\"url(#clip070)\" d=\"M1243.2 1517.37 Q1239.58 1517.37 1237.76 1520.93 Q1235.95 1524.47 1235.95 1531.6 Q1235.95 1538.71 1237.76 1542.27 Q1239.58 1545.82 1243.2 1545.82 Q1246.83 1545.82 1248.64 1542.27 Q1250.46 1538.71 1250.46 1531.6 Q1250.46 1524.47 1248.64 1520.93 Q1246.83 1517.37 1243.2 1517.37 M1243.2 1513.66 Q1249.01 1513.66 1252.06 1518.27 Q1255.14 1522.85 1255.14 1531.6 Q1255.14 1540.33 1252.06 1544.94 Q1249.01 1549.52 1243.2 1549.52 Q1237.39 1549.52 1234.31 1544.94 Q1231.25 1540.33 1231.25 1531.6 Q1231.25 1522.85 1234.31 1518.27 Q1237.39 1513.66 1243.2 1513.66 Z\" fill=\"#000000\" fill-rule=\"evenodd\" fill-opacity=\"1\" /><path clip-path=\"url(#clip070)\" d=\"M1263.36 1542.97 L1268.24 1542.97 L1268.24 1548.85 L1263.36 1548.85 L1263.36 1542.97 Z\" fill=\"#000000\" fill-rule=\"evenodd\" fill-opacity=\"1\" /><path clip-path=\"url(#clip070)\" d=\"M1288.43 1517.37 Q1284.82 1517.37 1282.99 1520.93 Q1281.18 1524.47 1281.18 1531.6 Q1281.18 1538.71 1282.99 1542.27 Q1284.82 1545.82 1288.43 1545.82 Q1292.06 1545.82 1293.87 1542.27 Q1295.7 1538.71 1295.7 1531.6 Q1295.7 1524.47 1293.87 1520.93 Q1292.06 1517.37 1288.43 1517.37 M1288.43 1513.66 Q1294.24 1513.66 1297.29 1518.27 Q1300.37 1522.85 1300.37 1531.6 Q1300.37 1540.33 1297.29 1544.94 Q1294.24 1549.52 1288.43 1549.52 Q1282.62 1549.52 1279.54 1544.94 Q1276.48 1540.33 1276.48 1531.6 Q1276.48 1522.85 1279.54 1518.27 Q1282.62 1513.66 1288.43 1513.66 Z\" fill=\"#000000\" fill-rule=\"evenodd\" fill-opacity=\"1\" /><path clip-path=\"url(#clip070)\" d=\"M1654.16 1517.37 Q1650.55 1517.37 1648.72 1520.93 Q1646.92 1524.47 1646.92 1531.6 Q1646.92 1538.71 1648.72 1542.27 Q1650.55 1545.82 1654.16 1545.82 Q1657.8 1545.82 1659.6 1542.27 Q1661.43 1538.71 1661.43 1531.6 Q1661.43 1524.47 1659.6 1520.93 Q1657.8 1517.37 1654.16 1517.37 M1654.16 1513.66 Q1659.97 1513.66 1663.03 1518.27 Q1666.11 1522.85 1666.11 1531.6 Q1666.11 1540.33 1663.03 1544.94 Q1659.97 1549.52 1654.16 1549.52 Q1648.35 1549.52 1645.27 1544.94 Q1642.22 1540.33 1642.22 1531.6 Q1642.22 1522.85 1645.27 1518.27 Q1648.35 1513.66 1654.16 1513.66 Z\" fill=\"#000000\" fill-rule=\"evenodd\" fill-opacity=\"1\" /><path clip-path=\"url(#clip070)\" d=\"M1674.32 1542.97 L1679.21 1542.97 L1679.21 1548.85 L1674.32 1548.85 L1674.32 1542.97 Z\" fill=\"#000000\" fill-rule=\"evenodd\" fill-opacity=\"1\" /><path clip-path=\"url(#clip070)\" d=\"M1693.42 1544.91 L1709.74 1544.91 L1709.74 1548.85 L1687.8 1548.85 L1687.8 1544.91 Q1690.46 1542.16 1695.04 1537.53 Q1699.65 1532.88 1700.83 1531.53 Q1703.07 1529.01 1703.95 1527.27 Q1704.86 1525.51 1704.86 1523.82 Q1704.86 1521.07 1702.91 1519.33 Q1700.99 1517.6 1697.89 1517.6 Q1695.69 1517.6 1693.24 1518.36 Q1690.81 1519.13 1688.03 1520.68 L1688.03 1515.95 Q1690.85 1514.82 1693.31 1514.24 Q1695.76 1513.66 1697.8 1513.66 Q1703.17 1513.66 1706.36 1516.35 Q1709.56 1519.03 1709.56 1523.52 Q1709.56 1525.65 1708.75 1527.57 Q1707.96 1529.47 1705.85 1532.07 Q1705.27 1532.74 1702.17 1535.95 Q1699.07 1539.15 1693.42 1544.91 Z\" fill=\"#000000\" fill-rule=\"evenodd\" fill-opacity=\"1\" /><path clip-path=\"url(#clip070)\" d=\"M2063.29 1517.37 Q2059.68 1517.37 2057.85 1520.93 Q2056.04 1524.47 2056.04 1531.6 Q2056.04 1538.71 2057.85 1542.27 Q2059.68 1545.82 2063.29 1545.82 Q2066.92 1545.82 2068.73 1542.27 Q2070.56 1538.71 2070.56 1531.6 Q2070.56 1524.47 2068.73 1520.93 Q2066.92 1517.37 2063.29 1517.37 M2063.29 1513.66 Q2069.1 1513.66 2072.15 1518.27 Q2075.23 1522.85 2075.23 1531.6 Q2075.23 1540.33 2072.15 1544.94 Q2069.1 1549.52 2063.29 1549.52 Q2057.48 1549.52 2054.4 1544.94 Q2051.34 1540.33 2051.34 1531.6 Q2051.34 1522.85 2054.4 1518.27 Q2057.48 1513.66 2063.29 1513.66 Z\" fill=\"#000000\" fill-rule=\"evenodd\" fill-opacity=\"1\" /><path clip-path=\"url(#clip070)\" d=\"M2083.45 1542.97 L2088.33 1542.97 L2088.33 1548.85 L2083.45 1548.85 L2083.45 1542.97 Z\" fill=\"#000000\" fill-rule=\"evenodd\" fill-opacity=\"1\" /><path clip-path=\"url(#clip070)\" d=\"M2111.37 1518.36 L2099.56 1536.81 L2111.37 1536.81 L2111.37 1518.36 M2110.14 1514.29 L2116.02 1514.29 L2116.02 1536.81 L2120.95 1536.81 L2120.95 1540.7 L2116.02 1540.7 L2116.02 1548.85 L2111.37 1548.85 L2111.37 1540.7 L2095.76 1540.7 L2095.76 1536.19 L2110.14 1514.29 Z\" fill=\"#000000\" fill-rule=\"evenodd\" fill-opacity=\"1\" /><polyline clip-path=\"url(#clip072)\" style=\"stroke:#000000; stroke-linecap:butt; stroke-linejoin:round; stroke-width:2; stroke-opacity:0.1; fill:none\" points=\"\n",
       "  178.867,1375.5 2352.76,1375.5 \n",
       "  \"/>\n",
       "<polyline clip-path=\"url(#clip072)\" style=\"stroke:#000000; stroke-linecap:butt; stroke-linejoin:round; stroke-width:2; stroke-opacity:0.1; fill:none\" points=\"\n",
       "  178.867,1095.85 2352.76,1095.85 \n",
       "  \"/>\n",
       "<polyline clip-path=\"url(#clip072)\" style=\"stroke:#000000; stroke-linecap:butt; stroke-linejoin:round; stroke-width:2; stroke-opacity:0.1; fill:none\" points=\"\n",
       "  178.867,816.194 2352.76,816.194 \n",
       "  \"/>\n",
       "<polyline clip-path=\"url(#clip072)\" style=\"stroke:#000000; stroke-linecap:butt; stroke-linejoin:round; stroke-width:2; stroke-opacity:0.1; fill:none\" points=\"\n",
       "  178.867,536.541 2352.76,536.541 \n",
       "  \"/>\n",
       "<polyline clip-path=\"url(#clip072)\" style=\"stroke:#000000; stroke-linecap:butt; stroke-linejoin:round; stroke-width:2; stroke-opacity:0.1; fill:none\" points=\"\n",
       "  178.867,256.888 2352.76,256.888 \n",
       "  \"/>\n",
       "<polyline clip-path=\"url(#clip070)\" style=\"stroke:#000000; stroke-linecap:butt; stroke-linejoin:round; stroke-width:4; stroke-opacity:1; fill:none\" points=\"\n",
       "  178.867,1486.45 178.867,47.2441 \n",
       "  \"/>\n",
       "<polyline clip-path=\"url(#clip070)\" style=\"stroke:#000000; stroke-linecap:butt; stroke-linejoin:round; stroke-width:4; stroke-opacity:1; fill:none\" points=\"\n",
       "  178.867,1375.5 197.764,1375.5 \n",
       "  \"/>\n",
       "<polyline clip-path=\"url(#clip070)\" style=\"stroke:#000000; stroke-linecap:butt; stroke-linejoin:round; stroke-width:4; stroke-opacity:1; fill:none\" points=\"\n",
       "  178.867,1095.85 197.764,1095.85 \n",
       "  \"/>\n",
       "<polyline clip-path=\"url(#clip070)\" style=\"stroke:#000000; stroke-linecap:butt; stroke-linejoin:round; stroke-width:4; stroke-opacity:1; fill:none\" points=\"\n",
       "  178.867,816.194 197.764,816.194 \n",
       "  \"/>\n",
       "<polyline clip-path=\"url(#clip070)\" style=\"stroke:#000000; stroke-linecap:butt; stroke-linejoin:round; stroke-width:4; stroke-opacity:1; fill:none\" points=\"\n",
       "  178.867,536.541 197.764,536.541 \n",
       "  \"/>\n",
       "<polyline clip-path=\"url(#clip070)\" style=\"stroke:#000000; stroke-linecap:butt; stroke-linejoin:round; stroke-width:4; stroke-opacity:1; fill:none\" points=\"\n",
       "  178.867,256.888 197.764,256.888 \n",
       "  \"/>\n",
       "<path clip-path=\"url(#clip070)\" d=\"M50.9921 1375.95 L80.6679 1375.95 L80.6679 1379.89 L50.9921 1379.89 L50.9921 1375.95 Z\" fill=\"#000000\" fill-rule=\"evenodd\" fill-opacity=\"1\" /><path clip-path=\"url(#clip070)\" d=\"M91.5706 1388.84 L99.2095 1388.84 L99.2095 1362.48 L90.8993 1364.15 L90.8993 1359.89 L99.1632 1358.22 L103.839 1358.22 L103.839 1388.84 L111.478 1388.84 L111.478 1392.78 L91.5706 1392.78 L91.5706 1388.84 Z\" fill=\"#000000\" fill-rule=\"evenodd\" fill-opacity=\"1\" /><path clip-path=\"url(#clip070)\" d=\"M130.922 1361.3 Q127.311 1361.3 125.482 1364.86 Q123.677 1368.4 123.677 1375.53 Q123.677 1382.64 125.482 1386.21 Q127.311 1389.75 130.922 1389.75 Q134.556 1389.75 136.362 1386.21 Q138.191 1382.64 138.191 1375.53 Q138.191 1368.4 136.362 1364.86 Q134.556 1361.3 130.922 1361.3 M130.922 1357.59 Q136.732 1357.59 139.788 1362.2 Q142.867 1366.78 142.867 1375.53 Q142.867 1384.26 139.788 1388.87 Q136.732 1393.45 130.922 1393.45 Q125.112 1393.45 122.033 1388.87 Q118.978 1384.26 118.978 1375.53 Q118.978 1366.78 122.033 1362.2 Q125.112 1357.59 130.922 1357.59 Z\" fill=\"#000000\" fill-rule=\"evenodd\" fill-opacity=\"1\" /><path clip-path=\"url(#clip070)\" d=\"M82.1494 1096.3 L111.825 1096.3 L111.825 1100.23 L82.1494 1100.23 L82.1494 1096.3 Z\" fill=\"#000000\" fill-rule=\"evenodd\" fill-opacity=\"1\" /><path clip-path=\"url(#clip070)\" d=\"M121.964 1078.57 L140.32 1078.57 L140.32 1082.5 L126.246 1082.5 L126.246 1090.97 Q127.265 1090.63 128.283 1090.46 Q129.302 1090.28 130.32 1090.28 Q136.107 1090.28 139.487 1093.45 Q142.867 1096.62 142.867 1102.04 Q142.867 1107.62 139.394 1110.72 Q135.922 1113.8 129.603 1113.8 Q127.427 1113.8 125.158 1113.43 Q122.913 1113.06 120.506 1112.32 L120.506 1107.62 Q122.589 1108.75 124.811 1109.31 Q127.033 1109.86 129.51 1109.86 Q133.515 1109.86 135.853 1107.76 Q138.191 1105.65 138.191 1102.04 Q138.191 1098.43 135.853 1096.32 Q133.515 1094.21 129.51 1094.21 Q127.635 1094.21 125.76 1094.63 Q123.908 1095.05 121.964 1095.93 L121.964 1078.57 Z\" fill=\"#000000\" fill-rule=\"evenodd\" fill-opacity=\"1\" /><path clip-path=\"url(#clip070)\" d=\"M130.922 801.992 Q127.311 801.992 125.482 805.557 Q123.677 809.099 123.677 816.228 Q123.677 823.335 125.482 826.899 Q127.311 830.441 130.922 830.441 Q134.556 830.441 136.362 826.899 Q138.191 823.335 138.191 816.228 Q138.191 809.099 136.362 805.557 Q134.556 801.992 130.922 801.992 M130.922 798.289 Q136.732 798.289 139.788 802.895 Q142.867 807.478 142.867 816.228 Q142.867 824.955 139.788 829.562 Q136.732 834.145 130.922 834.145 Q125.112 834.145 122.033 829.562 Q118.978 824.955 118.978 816.228 Q118.978 807.478 122.033 802.895 Q125.112 798.289 130.922 798.289 Z\" fill=\"#000000\" fill-rule=\"evenodd\" fill-opacity=\"1\" /><path clip-path=\"url(#clip070)\" d=\"M121.964 519.261 L140.32 519.261 L140.32 523.196 L126.246 523.196 L126.246 531.668 Q127.265 531.321 128.283 531.159 Q129.302 530.973 130.32 530.973 Q136.107 530.973 139.487 534.145 Q142.867 537.316 142.867 542.733 Q142.867 548.311 139.394 551.413 Q135.922 554.492 129.603 554.492 Q127.427 554.492 125.158 554.122 Q122.913 553.751 120.506 553.01 L120.506 548.311 Q122.589 549.446 124.811 550.001 Q127.033 550.557 129.51 550.557 Q133.515 550.557 135.853 548.45 Q138.191 546.344 138.191 542.733 Q138.191 539.122 135.853 537.015 Q133.515 534.909 129.51 534.909 Q127.635 534.909 125.76 535.325 Q123.908 535.742 121.964 536.622 L121.964 519.261 Z\" fill=\"#000000\" fill-rule=\"evenodd\" fill-opacity=\"1\" /><path clip-path=\"url(#clip070)\" d=\"M91.5706 270.232 L99.2095 270.232 L99.2095 243.867 L90.8993 245.534 L90.8993 241.274 L99.1632 239.608 L103.839 239.608 L103.839 270.232 L111.478 270.232 L111.478 274.168 L91.5706 274.168 L91.5706 270.232 Z\" fill=\"#000000\" fill-rule=\"evenodd\" fill-opacity=\"1\" /><path clip-path=\"url(#clip070)\" d=\"M130.922 242.686 Q127.311 242.686 125.482 246.251 Q123.677 249.793 123.677 256.922 Q123.677 264.029 125.482 267.594 Q127.311 271.135 130.922 271.135 Q134.556 271.135 136.362 267.594 Q138.191 264.029 138.191 256.922 Q138.191 249.793 136.362 246.251 Q134.556 242.686 130.922 242.686 M130.922 238.983 Q136.732 238.983 139.788 243.589 Q142.867 248.172 142.867 256.922 Q142.867 265.649 139.788 270.256 Q136.732 274.839 130.922 274.839 Q125.112 274.839 122.033 270.256 Q118.978 265.649 118.978 256.922 Q118.978 248.172 122.033 243.589 Q125.112 238.983 130.922 238.983 Z\" fill=\"#000000\" fill-rule=\"evenodd\" fill-opacity=\"1\" /><polyline clip-path=\"url(#clip072)\" style=\"stroke:#009af9; stroke-linecap:butt; stroke-linejoin:round; stroke-width:4; stroke-opacity:1; fill:none\" points=\"\n",
       "  240.392,87.9763 260.9,101.07 281.409,126.442 301.917,164.989 322.425,217.43 342.934,284.225 363.442,365.464 383.951,460.745 404.459,569.024 424.967,688.45 \n",
       "  445.476,816.194 465.984,948.271 486.492,1079.4 507.001,1202.91 527.509,1310.76 548.018,1393.75 568.526,1441.99 589.034,1445.72 609.543,1396.66 630.051,1289.92 \n",
       "  650.56,1126.47 671.068,915.996 691.576,679.702 712.085,451.912 732.593,278.899 753.102,212.48 773.61,295.918 794.118,541.1 814.627,900.908 835.135,1250.68 \n",
       "  855.643,1406.47 876.152,1214.42 896.66,714.468 917.169,271.848 937.677,404.769 958.185,1106.21 978.694,1337.28 999.202,488.533 1019.71,528.513 1040.22,1366.98 \n",
       "  1060.73,243.358 1081.24,1353.46 1101.74,816.194 1122.25,460.853 1142.76,1100.78 1163.27,247.638 1183.78,1384.24 1204.29,1100.02 1224.79,248.83 1245.3,249.001 \n",
       "  1286.32,249.001 1306.83,248.83 1327.34,1100.02 1347.84,1384.24 1368.35,247.638 1388.86,1100.78 1409.37,460.853 1429.88,816.194 1450.39,1353.46 1470.9,243.358 \n",
       "  1491.4,1366.98 1511.91,528.513 1532.42,488.533 1552.93,1337.28 1573.44,1106.21 1593.95,404.769 1614.45,271.848 1634.96,714.468 1655.47,1214.42 1675.98,1406.47 \n",
       "  1696.49,1250.68 1717,900.908 1737.5,541.1 1758.01,295.918 1778.52,212.48 1799.03,278.899 1819.54,451.912 1840.05,679.702 1860.55,915.996 1881.06,1126.47 \n",
       "  1901.57,1289.92 1922.08,1396.66 1942.59,1445.72 1963.1,1441.99 1983.6,1393.75 2004.11,1310.76 2024.62,1202.91 2045.13,1079.4 2065.64,948.271 2086.15,816.194 \n",
       "  2106.66,688.45 2127.16,569.024 2147.67,460.745 2168.18,365.464 2188.69,284.225 2209.2,217.43 2229.71,164.989 2250.21,126.442 2270.72,101.07 2291.23,87.9763 \n",
       "  \n",
       "  \"/>\n",
       "<path clip-path=\"url(#clip070)\" d=\"\n",
       "M1986.32 198.898 L2280.29 198.898 L2280.29 95.2176 L1986.32 95.2176  Z\n",
       "  \" fill=\"#ffffff\" fill-rule=\"evenodd\" fill-opacity=\"1\"/>\n",
       "<polyline clip-path=\"url(#clip070)\" style=\"stroke:#000000; stroke-linecap:butt; stroke-linejoin:round; stroke-width:4; stroke-opacity:1; fill:none\" points=\"\n",
       "  1986.32,198.898 2280.29,198.898 2280.29,95.2176 1986.32,95.2176 1986.32,198.898 \n",
       "  \"/>\n",
       "<polyline clip-path=\"url(#clip070)\" style=\"stroke:#009af9; stroke-linecap:butt; stroke-linejoin:round; stroke-width:4; stroke-opacity:1; fill:none\" points=\"\n",
       "  2010.47,147.058 2155.4,147.058 \n",
       "  \"/>\n",
       "<path clip-path=\"url(#clip070)\" d=\"M2193.4 166.745 Q2191.59 171.375 2189.88 172.787 Q2188.17 174.199 2185.29 174.199 L2181.89 174.199 L2181.89 170.634 L2184.39 170.634 Q2186.15 170.634 2187.12 169.8 Q2188.1 168.967 2189.28 165.865 L2190.04 163.921 L2179.55 138.412 L2184.07 138.412 L2192.17 158.689 L2200.27 138.412 L2204.79 138.412 L2193.4 166.745 Z\" fill=\"#000000\" fill-rule=\"evenodd\" fill-opacity=\"1\" /><path clip-path=\"url(#clip070)\" d=\"M2212.08 160.402 L2219.72 160.402 L2219.72 134.037 L2211.41 135.703 L2211.41 131.444 L2219.67 129.778 L2224.35 129.778 L2224.35 160.402 L2231.98 160.402 L2231.98 164.338 L2212.08 164.338 L2212.08 160.402 Z\" fill=\"#000000\" fill-rule=\"evenodd\" fill-opacity=\"1\" /></svg>\n"
      ]
     },
     "execution_count": 37,
     "metadata": {},
     "output_type": "execute_result"
    }
   ],
   "source": [
    "using Plots\n",
    "\n",
    "f(x) = 10.14 * exp(x^2) * cos(pi/x)\n",
    "plot([x for x in -.5:.01:.5 if x != 0], f)"
   ]
  },
  {
   "cell_type": "code",
   "execution_count": 38,
   "id": "f50044b6-793a-4c0c-8d50-4ec1a2372e3b",
   "metadata": {},
   "outputs": [
    {
     "data": {
      "text/plain": [
       "newton_raphson_tab (generic function with 3 methods)"
      ]
     },
     "execution_count": 38,
     "metadata": {},
     "output_type": "execute_result"
    }
   ],
   "source": [
    "function newton_raphson_tab(f, x0, max=1000, tol=1e-9)\n",
    "    df = derivative(f)\n",
    "    \n",
    "    tab = Matrix(undef, 0, 3)\n",
    "    guess = x0\n",
    "    \n",
    "    for i in 1:max\n",
    "        error = f(guess)\n",
    "        tab = [tab; i guess error]\n",
    "        \n",
    "        if abs(error) < tol\n",
    "            return tab\n",
    "        end\n",
    "        \n",
    "        guess = guess - f(guess) / df(guess)\n",
    "    end\n",
    "    \n",
    "    return tab\n",
    "end"
   ]
  },
  {
   "cell_type": "code",
   "execution_count": 39,
   "id": "9b96a228-7e3c-49da-8bdf-fd0b31bc6bc8",
   "metadata": {},
   "outputs": [
    {
     "data": {
      "text/plain": [
       "secant_tab (generic function with 3 methods)"
      ]
     },
     "execution_count": 39,
     "metadata": {},
     "output_type": "execute_result"
    }
   ],
   "source": [
    "function secant_tab(f, x0, x1, max=1000, tol=1e-9)\n",
    "    tab = Matrix(undef, 0, 3)\n",
    "    zero = x0\n",
    "    \n",
    "    for i in 1:max\n",
    "        fx0, fx1 = f(x0), f(x1)\n",
    "        zero = x1 - fx1 * (x1 - x0) / (fx1 - fx0)\n",
    "        err = f(zero)\n",
    "        \n",
    "        tab = [tab; i zero err]\n",
    "        \n",
    "        if abs(err) < tol\n",
    "            return tab\n",
    "        end\n",
    "        \n",
    "        x0 = x1\n",
    "        x1 = zero\n",
    "    end\n",
    "    \n",
    "    return tab\n",
    "end"
   ]
  },
  {
   "cell_type": "code",
   "execution_count": null,
   "id": "1d6fedd0-f7de-4628-9caa-85a3ccb8a9b1",
   "metadata": {},
   "outputs": [],
   "source": []
  }
 ],
 "metadata": {
  "kernelspec": {
   "display_name": "Julia 1.7.1",
   "language": "julia",
   "name": "julia-1.7"
  },
  "language_info": {
   "file_extension": ".jl",
   "mimetype": "application/julia",
   "name": "julia",
   "version": "1.7.3"
  }
 },
 "nbformat": 4,
 "nbformat_minor": 5
}
