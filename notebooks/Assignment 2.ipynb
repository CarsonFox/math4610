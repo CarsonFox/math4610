{
 "cells": [
  {
   "cell_type": "code",
   "execution_count": 10,
   "id": "46af69e8-1bc7-45e7-b4d9-8bfdb7e990df",
   "metadata": {},
   "outputs": [
    {
     "data": {
      "text/plain": [
       "derivative (generic function with 2 methods)"
      ]
     },
     "execution_count": 10,
     "metadata": {},
     "output_type": "execute_result"
    }
   ],
   "source": [
    "function derivative(f, epsilon=1e-4)\n",
    "    x -> (f(x + epsilon) - f(x)) / epsilon\n",
    "end"
   ]
  },
  {
   "cell_type": "code",
   "execution_count": 20,
   "id": "6bd09d0f-b126-41f5-97fb-63899f8cd4ef",
   "metadata": {},
   "outputs": [
    {
     "data": {
      "text/plain": [
       "newton_raphson (generic function with 4 methods)"
      ]
     },
     "execution_count": 20,
     "metadata": {},
     "output_type": "execute_result"
    }
   ],
   "source": [
    "function newton_raphson(f, x0, max=100, tol=1e-6)\n",
    "    guess = x0\n",
    "    df = derivative(f)\n",
    "    \n",
    "    for i in 1:max\n",
    "        error = f(guess)\n",
    "        if abs(error) < tol\n",
    "            return guess\n",
    "        end\n",
    "        \n",
    "        guess = guess - f(guess) / df(guess)\n",
    "    end\n",
    "    \n",
    "    return guess\n",
    "end"
   ]
  },
  {
   "cell_type": "code",
   "execution_count": 19,
   "id": "7885fda5-ca75-4534-b474-901591d75f1a",
   "metadata": {},
   "outputs": [
    {
     "data": {
      "text/plain": [
       "2.4824928479981347e-11"
      ]
     },
     "execution_count": 19,
     "metadata": {},
     "output_type": "execute_result"
    }
   ],
   "source": [
    "newton_raphson(x -> x * exp(-x), 0.5, 1000, 1e-9)"
   ]
  },
  {
   "cell_type": "code",
   "execution_count": null,
   "id": "5d8dd0b4-ab45-47d8-8739-e0cf3c45fee0",
   "metadata": {},
   "outputs": [],
   "source": []
  }
 ],
 "metadata": {
  "kernelspec": {
   "display_name": "Julia 1.7.1",
   "language": "julia",
   "name": "julia-1.7"
  },
  "language_info": {
   "file_extension": ".jl",
   "mimetype": "application/julia",
   "name": "julia",
   "version": "1.7.3"
  }
 },
 "nbformat": 4,
 "nbformat_minor": 5
}
