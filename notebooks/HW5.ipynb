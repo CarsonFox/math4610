{
 "cells": [
  {
   "cell_type": "markdown",
   "id": "33ddd9cd-2a0a-4f46-a22e-a7ff04d58967",
   "metadata": {},
   "source": [
    "# Numerical Integration"
   ]
  },
  {
   "cell_type": "code",
   "execution_count": 10,
   "id": "7efe8f37-d336-40d6-ae3e-6f9137fd1711",
   "metadata": {},
   "outputs": [
    {
     "data": {
      "text/plain": [
       "trapezoid (generic function with 2 methods)"
      ]
     },
     "execution_count": 10,
     "metadata": {},
     "output_type": "execute_result"
    }
   ],
   "source": [
    "function trapezoid(f, a, b, n)\n",
    "    h = (b-a) / n\n",
    "    domain = a:h:b\n",
    "    \n",
    "    pairs = zip(domain[1:end-1], domain[2:end])\n",
    "    sum(h * (f(an) + f(bn)) / 2 for (an, bn) in pairs)\n",
    "end"
   ]
  },
  {
   "cell_type": "code",
   "execution_count": 11,
   "id": "68197d1f-8c44-4540-897c-60c176a1809c",
   "metadata": {},
   "outputs": [
    {
     "data": {
      "text/plain": [
       "0.7468240714991848"
      ]
     },
     "execution_count": 11,
     "metadata": {},
     "output_type": "execute_result"
    }
   ],
   "source": [
    "trapezoid(x -> exp(-x^2), 0, 1, 1000)"
   ]
  }
 ],
 "metadata": {
  "kernelspec": {
   "display_name": "Julia 1.7.1",
   "language": "julia",
   "name": "julia-1.7"
  },
  "language_info": {
   "file_extension": ".jl",
   "mimetype": "application/julia",
   "name": "julia",
   "version": "1.7.3"
  }
 },
 "nbformat": 4,
 "nbformat_minor": 5
}
